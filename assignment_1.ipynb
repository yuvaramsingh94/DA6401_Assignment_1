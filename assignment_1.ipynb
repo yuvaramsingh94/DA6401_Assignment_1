{
 "cells": [
  {
   "cell_type": "code",
   "execution_count": 1,
   "metadata": {},
   "outputs": [],
   "source": [
    "import numpy as np\n",
    "from keras.datasets import fashion_mnist"
   ]
  },
  {
   "cell_type": "markdown",
   "metadata": {},
   "source": [
    "## Question 1 fashion-MNIST dataset"
   ]
  },
  {
   "cell_type": "code",
   "execution_count": 2,
   "metadata": {},
   "outputs": [
    {
     "name": "stdout",
     "output_type": "stream",
     "text": [
      "Dataset summary\n",
      "Train (60000, 784) (60000,)\n",
      "Test (10000, 784) (10000,)\n"
     ]
    }
   ],
   "source": [
    "(x_train, y_train), (x_test, y_test) = fashion_mnist.load_data()\n",
    "x_train = x_train.reshape(len(x_train),-1)\n",
    "x_test = x_test.reshape(len(x_test),-1)\n",
    "print(\"Dataset summary\")\n",
    "print(\"Train\",x_train.shape,y_train.shape)\n",
    "print(\"Test\",x_test.shape,y_test.shape)\n"
   ]
  },
  {
   "cell_type": "markdown",
   "metadata": {},
   "source": [
    "## Q2 and Q3"
   ]
  },
  {
   "cell_type": "code",
   "execution_count": 3,
   "metadata": {},
   "outputs": [],
   "source": [
    "def sigmoid(x):\n",
    "    return 1/(1+np.exp(-x))\n",
    "\n",
    "def softmax(x):\n",
    "    e_x = np.exp(x)\n",
    "    return e_x/e_x.sum()\n",
    "\n",
    "class HiddenLayer:\n",
    "    def __init__(self, num_of_nodes: int, num_of_nodes_prev_layer: int, activation: str = \"sigmoid\"):\n",
    "        self.num_of_nodes = num_of_nodes\n",
    "        self.num_of_nodes_prev_layer = num_of_nodes_prev_layer\n",
    "        self.activation = activation\n",
    "        self.weight = np.random.normal(0, 1, size=(self.num_of_nodes, self.num_of_nodes_prev_layer))\n",
    "        self.bias = np.random.normal(0, 1, size=(self.num_of_nodes,1))\n",
    "\n",
    "    def forward(self, input):\n",
    "        self.a = np.matmul(self.weight, input) + self.bias ## Need to check the input shape?\n",
    "        if self.activation == \"sigmoid\":\n",
    "            self.h = sigmoid(self.a)\n",
    "\n",
    "\n",
    "class OutputLayer:\n",
    "    def __init__(self, num_of_output_neuron: int, num_of_nodes_prev_layer: int, activation: str = \"softmax\"):\n",
    "        self.num_of_output_neuron = num_of_output_neuron\n",
    "        self.num_of_nodes_prev_layer = num_of_nodes_prev_layer\n",
    "        self.activation = activation\n",
    "        self.weight = np.random.normal(0, 1, size=(self.num_of_output_neuron, self.num_of_nodes_prev_layer))\n",
    "        self.bias = np.random.normal(0, 1, size=(self.num_of_output_neuron,1))\n",
    "\n",
    "    def forward(self, input):\n",
    "        self.a = np.matmul(self.weight, input) + self.bias ## Need to check the input shape?\n",
    "        if self.activation == \"softmax\":\n",
    "            self.h = softmax(self.a)"
   ]
  },
  {
   "cell_type": "code",
   "execution_count": null,
   "metadata": {},
   "outputs": [],
   "source": [
    "class NeuralNetwork:\n",
    "    def __init__(self, input_neuron: int= 784, num_hidden_layers: int = 3, neurons_per_hidden_layer: list = [100,100,100], num_of_output_neuron: int = 10):\n",
    "        self.input_neuron = input_neuron\n",
    "        self.num_hidden_layers = num_hidden_layers\n",
    "        assert self.num_hidden_layers == len(neurons_per_hidden_layer)\n",
    "        self.neurons_per_hidden_layer = neurons_per_hidden_layer\n",
    "        self.num_of_output_neuron = num_of_output_neuron\n",
    "        ## Build the NN\n",
    "        self.build_nn()\n",
    "\n",
    "    # wx+b\n",
    "    def build_nn(self):\n",
    "        self.nn_dict = {}\n",
    "        for layer_i, neurons_i in enumerate(self.neurons_per_hidden_layer):\n",
    "            if layer_i == 0: # first layer \n",
    "                self.nn_dict[f\"Layer_{layer_i+1}\"] = {\"layer\":HiddenLayer(num_of_nodes = neurons_i, num_of_nodes_prev_layer = self.input_neuron, activation = \"sigmoid\")}\n",
    "            else:\n",
    "                self.nn_dict[f\"Layer_{layer_i+1}\"] = {\"layer\":HiddenLayer(num_of_nodes = neurons_i, num_of_nodes_prev_layer = self.neurons_per_hidden_layer[layer_i - 1], activation = \"sigmoid\")}\n",
    "        ## Add the output layer\n",
    "        self.nn_dict[\"Output_layer\"] = {\"layer\":OutputLayer(self.num_of_output_neuron, self.neurons_per_hidden_layer[-1], activation = \"softmax\")}\n",
    "\n",
    "    def forward_pass(self, x):\n",
    "        \n",
    "        for layer in self.nn_dict.values():\n",
    "            ## forward pass\n",
    "            layer[\"layer\"].forward(x)\n",
    "            layer[\"a\"] = layer[\"layer\"].a\n",
    "            layer[\"h\"] = layer[\"layer\"].h\n",
    "            x = layer[\"h\"]\n",
    "\n",
    "        return x"
   ]
  },
  {
   "cell_type": "code",
   "execution_count": 5,
   "metadata": {},
   "outputs": [],
   "source": [
    "my_net = NeuralNetwork()\n"
   ]
  },
  {
   "cell_type": "code",
   "execution_count": 6,
   "metadata": {},
   "outputs": [
    {
     "name": "stderr",
     "output_type": "stream",
     "text": [
      "C:\\Users\\yuvar\\AppData\\Local\\Temp\\ipykernel_20016\\177080910.py:2: RuntimeWarning: overflow encountered in exp\n",
      "  return 1/(1+np.exp(-x))\n"
     ]
    },
    {
     "ename": "ValueError",
     "evalue": "matmul: Input operand 1 has a mismatch in its core dimension 0, with gufunc signature (n?,k),(k,m?)->(n?,m?) (size 784 is different from 100)",
     "output_type": "error",
     "traceback": [
      "\u001b[1;31m---------------------------------------------------------------------------\u001b[0m",
      "\u001b[1;31mValueError\u001b[0m                                Traceback (most recent call last)",
      "Cell \u001b[1;32mIn[6], line 1\u001b[0m\n\u001b[1;32m----> 1\u001b[0m \u001b[43mmy_net\u001b[49m\u001b[38;5;241;43m.\u001b[39;49m\u001b[43mforward_pass\u001b[49m\u001b[43m(\u001b[49m\u001b[43mnp\u001b[49m\u001b[38;5;241;43m.\u001b[39;49m\u001b[43mexpand_dims\u001b[49m\u001b[43m(\u001b[49m\u001b[43mx_train\u001b[49m\u001b[43m[\u001b[49m\u001b[38;5;241;43m0\u001b[39;49m\u001b[43m]\u001b[49m\u001b[43m,\u001b[49m\u001b[43m \u001b[49m\u001b[43maxis\u001b[49m\u001b[43m \u001b[49m\u001b[38;5;241;43m=\u001b[39;49m\u001b[43m \u001b[49m\u001b[38;5;241;43m-\u001b[39;49m\u001b[38;5;241;43m1\u001b[39;49m\u001b[43m)\u001b[49m\u001b[43m)\u001b[49m\n",
      "Cell \u001b[1;32mIn[4], line 26\u001b[0m, in \u001b[0;36mNeuralNetwork.forward_pass\u001b[1;34m(self, x)\u001b[0m\n\u001b[0;32m     22\u001b[0m \u001b[38;5;28;01mdef\u001b[39;00m \u001b[38;5;21mforward_pass\u001b[39m(\u001b[38;5;28mself\u001b[39m, x):\n\u001b[0;32m     24\u001b[0m     \u001b[38;5;28;01mfor\u001b[39;00m layer \u001b[38;5;129;01min\u001b[39;00m \u001b[38;5;28mself\u001b[39m\u001b[38;5;241m.\u001b[39mnn_dict\u001b[38;5;241m.\u001b[39mvalues():\n\u001b[0;32m     25\u001b[0m         \u001b[38;5;66;03m## forward pass\u001b[39;00m\n\u001b[1;32m---> 26\u001b[0m         \u001b[43mlayer\u001b[49m\u001b[43m[\u001b[49m\u001b[38;5;124;43m\"\u001b[39;49m\u001b[38;5;124;43mlayer\u001b[39;49m\u001b[38;5;124;43m\"\u001b[39;49m\u001b[43m]\u001b[49m\u001b[38;5;241;43m.\u001b[39;49m\u001b[43mforward\u001b[49m\u001b[43m(\u001b[49m\u001b[43mx\u001b[49m\u001b[43m)\u001b[49m\n\u001b[0;32m     27\u001b[0m         layer[\u001b[38;5;124m\"\u001b[39m\u001b[38;5;124ma\u001b[39m\u001b[38;5;124m\"\u001b[39m] \u001b[38;5;241m=\u001b[39m layer[\u001b[38;5;124m\"\u001b[39m\u001b[38;5;124mlayer\u001b[39m\u001b[38;5;124m\"\u001b[39m]\u001b[38;5;241m.\u001b[39ma\n\u001b[0;32m     28\u001b[0m         layer[\u001b[38;5;124m\"\u001b[39m\u001b[38;5;124mh\u001b[39m\u001b[38;5;124m\"\u001b[39m] \u001b[38;5;241m=\u001b[39m layer[\u001b[38;5;124m\"\u001b[39m\u001b[38;5;124mlayer\u001b[39m\u001b[38;5;124m\"\u001b[39m]\u001b[38;5;241m.\u001b[39mh\n",
      "Cell \u001b[1;32mIn[3], line 17\u001b[0m, in \u001b[0;36mHiddenLayer.forward\u001b[1;34m(self, input)\u001b[0m\n\u001b[0;32m     16\u001b[0m \u001b[38;5;28;01mdef\u001b[39;00m \u001b[38;5;21mforward\u001b[39m(\u001b[38;5;28mself\u001b[39m, \u001b[38;5;28minput\u001b[39m):\n\u001b[1;32m---> 17\u001b[0m     \u001b[38;5;28mself\u001b[39m\u001b[38;5;241m.\u001b[39ma \u001b[38;5;241m=\u001b[39m \u001b[43mnp\u001b[49m\u001b[38;5;241;43m.\u001b[39;49m\u001b[43mmatmul\u001b[49m\u001b[43m(\u001b[49m\u001b[38;5;28;43mself\u001b[39;49m\u001b[38;5;241;43m.\u001b[39;49m\u001b[43mweight\u001b[49m\u001b[43m,\u001b[49m\u001b[43m \u001b[49m\u001b[38;5;28;43minput\u001b[39;49m\u001b[43m)\u001b[49m \u001b[38;5;241m+\u001b[39m \u001b[38;5;28mself\u001b[39m\u001b[38;5;241m.\u001b[39mbias \u001b[38;5;66;03m## Need to check the input shape?\u001b[39;00m\n\u001b[0;32m     18\u001b[0m     \u001b[38;5;28;01mif\u001b[39;00m \u001b[38;5;28mself\u001b[39m\u001b[38;5;241m.\u001b[39mactivation \u001b[38;5;241m==\u001b[39m \u001b[38;5;124m\"\u001b[39m\u001b[38;5;124msigmoid\u001b[39m\u001b[38;5;124m\"\u001b[39m:\n\u001b[0;32m     19\u001b[0m         \u001b[38;5;28mself\u001b[39m\u001b[38;5;241m.\u001b[39mh \u001b[38;5;241m=\u001b[39m sigmoid(\u001b[38;5;28mself\u001b[39m\u001b[38;5;241m.\u001b[39ma)\n",
      "\u001b[1;31mValueError\u001b[0m: matmul: Input operand 1 has a mismatch in its core dimension 0, with gufunc signature (n?,k),(k,m?)->(n?,m?) (size 784 is different from 100)"
     ]
    }
   ],
   "source": [
    "my_net.forward_pass(np.expand_dims(x_train[0], axis = -1))"
   ]
  },
  {
   "cell_type": "code",
   "execution_count": null,
   "metadata": {},
   "outputs": [],
   "source": []
  }
 ],
 "metadata": {
  "kernelspec": {
   "display_name": "stockmarket",
   "language": "python",
   "name": "python3"
  },
  "language_info": {
   "codemirror_mode": {
    "name": "ipython",
    "version": 3
   },
   "file_extension": ".py",
   "mimetype": "text/x-python",
   "name": "python",
   "nbconvert_exporter": "python",
   "pygments_lexer": "ipython3",
   "version": "3.11.9"
  }
 },
 "nbformat": 4,
 "nbformat_minor": 2
}
