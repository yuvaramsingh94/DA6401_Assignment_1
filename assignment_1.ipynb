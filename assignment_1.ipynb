{
 "cells": [
  {
   "cell_type": "code",
   "execution_count": 1,
   "metadata": {},
   "outputs": [],
   "source": [
    "import numpy as np\n",
    "from keras.datasets import fashion_mnist"
   ]
  },
  {
   "cell_type": "markdown",
   "metadata": {},
   "source": [
    "## Question 1 fashion-MNIST dataset"
   ]
  },
  {
   "cell_type": "code",
   "execution_count": 10,
   "metadata": {},
   "outputs": [
    {
     "name": "stdout",
     "output_type": "stream",
     "text": [
      "Dataset summary\n",
      "Train (60000, 784) (60000, 10)\n",
      "Test (10000, 784) (10000, 10)\n"
     ]
    }
   ],
   "source": [
    "(x_train, y_train_int), (x_test, y_test_int) = fashion_mnist.load_data()\n",
    "\n",
    "## One hot encode the Y\n",
    "y_train = np.zeros((y_train_int.size, y_train_int.max() + 1))\n",
    "y_train[np.arange(y_train_int.size), y_train_int] = 1\n",
    "\n",
    "y_test = np.zeros((y_test_int.size, y_test_int.max() + 1))\n",
    "y_test[np.arange(y_test_int.size), y_test_int] = 1\n",
    "\n",
    "\n",
    "x_train = x_train.reshape(len(x_train),-1)\n",
    "x_test = x_test.reshape(len(x_test),-1)\n",
    "print(\"Dataset summary\")\n",
    "print(\"Train\",x_train.shape,y_train.shape)\n",
    "print(\"Test\",x_test.shape,y_test.shape)\n"
   ]
  },
  {
   "cell_type": "markdown",
   "metadata": {},
   "source": [
    "## Q2 and Q3"
   ]
  },
  {
   "cell_type": "code",
   "execution_count": null,
   "metadata": {},
   "outputs": [],
   "source": [
    "def sigmoid(x: np.array) -> np.array:\n",
    "    return 1/(1+np.exp(-x))\n",
    "\n",
    "def softmax(x: np.array) -> np.array:\n",
    "    e_x = np.exp(x)\n",
    "    return e_x/e_x.sum()\n",
    "\n",
    "def cross_entropy(y_pred: np.array, y_label: np.array) -> np.array:\n",
    "    dot_ = np.dot(y_label,np.log(y_pred))\n",
    "    return -dot_.sum()\n",
    "\n",
    "\n",
    "class HiddenLayer:\n",
    "    def __init__(self, num_of_nodes: int, num_of_nodes_prev_layer: int, activation: str = \"sigmoid\"):\n",
    "        self.num_of_nodes = num_of_nodes\n",
    "        self.num_of_nodes_prev_layer = num_of_nodes_prev_layer\n",
    "        self.activation = activation\n",
    "        self.weight = np.random.normal(0, 1, size=(self.num_of_nodes, self.num_of_nodes_prev_layer))\n",
    "        self.bias = np.random.normal(0, 1, size=(self.num_of_nodes,1))\n",
    "\n",
    "    def forward(self, input):\n",
    "        self.a = np.matmul(self.weight, input) + self.bias ## Need to check the input shape?\n",
    "        if self.activation == \"sigmoid\":\n",
    "            self.h = sigmoid(self.a)\n",
    "\n",
    "    def backpropagation(self, next_layer_w: np.array, next_layer_L_theta_by_a: np.array, prev_layer_h: np.array):\n",
    "        self.L_theta_by_h = np.matmul(next_layer_w.T, next_layer_L_theta_by_a)\n",
    "        ## get the g hat function for the sigmoid function\n",
    "        if self.activation == \"sigmoid\":\n",
    "            ## Here is some problem with getting the g_hat\n",
    "            self.g_hat = np.dot(self.h.squeeze(), (1- self.h.squeeze()))\n",
    "        ## calculate the L_theta_by_a\n",
    "        \n",
    "        self.L_theta_by_a = np.dot(self.L_theta_by_h, self.g_hat)## dummy placeholder\n",
    "        self.L_theta_by_w = np.matmul(self.L_theta_by_a, prev_layer_h.T)\n",
    "        self.L_theta_by_b = self.L_theta_by_a \n",
    "class OutputLayer:\n",
    "    def __init__(self, num_of_output_neuron: int, num_of_nodes_prev_layer: int, activation: str = \"softmax\"):\n",
    "        self.num_of_output_neuron = num_of_output_neuron\n",
    "        self.num_of_nodes_prev_layer = num_of_nodes_prev_layer\n",
    "        self.activation = activation\n",
    "        self.weight = np.random.normal(0, 1, size=(self.num_of_output_neuron, self.num_of_nodes_prev_layer))\n",
    "        self.bias = np.random.normal(0, 1, size=(self.num_of_output_neuron,1))\n",
    "\n",
    "    def forward(self, input: np.array):\n",
    "        self.a = np.matmul(self.weight, input) + self.bias ## Need to check the input shape?\n",
    "        if self.activation == \"softmax\":\n",
    "            self.h = softmax(self.a)\n",
    "\n",
    "    def backpropagation(self, y_label: np.array, prev_layer_h: np.array):\n",
    "        #self.L_theta_by_y_hat = np.dot(-1/self.h, y_label)\n",
    "        self.L_theta_by_a = -1 * (y_label - self.h)\n",
    "        self.L_theta_by_w = np.matmul(self.L_theta_by_a, prev_layer_h.T)\n",
    "        self.L_theta_by_b = self.L_theta_by_a \n"
   ]
  },
  {
   "cell_type": "code",
   "execution_count": null,
   "metadata": {},
   "outputs": [],
   "source": [
    "class NeuralNetwork:\n",
    "    def __init__(self, input_neuron: int= 784, num_hidden_layers: int = 3, neurons_per_hidden_layer: list = [100,100,100], num_of_output_neuron: int = 10, learning_rate = 0.0001):\n",
    "        self.input_neuron = input_neuron\n",
    "        self.num_hidden_layers = num_hidden_layers\n",
    "        assert self.num_hidden_layers == len(neurons_per_hidden_layer)\n",
    "        self.neurons_per_hidden_layer = neurons_per_hidden_layer\n",
    "        self.num_of_output_neuron = num_of_output_neuron\n",
    "        self.learning_rate = learning_rate\n",
    "        ## Build the NN\n",
    "        self.build_nn()\n",
    "\n",
    "    # wx+b\n",
    "    def build_nn(self):\n",
    "        self.nn_dict = {}\n",
    "        for layer_i, neurons_i in enumerate(self.neurons_per_hidden_layer):\n",
    "            if layer_i == 0: # first layer \n",
    "                self.nn_dict[f\"Layer_{layer_i+1}\"] = {\"layer\":HiddenLayer(num_of_nodes = neurons_i, num_of_nodes_prev_layer = self.input_neuron, activation = \"sigmoid\")}\n",
    "            else:\n",
    "                self.nn_dict[f\"Layer_{layer_i+1}\"] = {\"layer\":HiddenLayer(num_of_nodes = neurons_i, num_of_nodes_prev_layer = self.neurons_per_hidden_layer[layer_i - 1], activation = \"sigmoid\")}\n",
    "        ## Add the output layer\n",
    "        self.nn_dict[\"Output_layer\"] = {\"layer\":OutputLayer(self.num_of_output_neuron, self.neurons_per_hidden_layer[-1], activation = \"softmax\")}\n",
    "\n",
    "    def forward_pass(self, x):\n",
    "        \n",
    "        for layer in self.nn_dict.values():\n",
    "            ## forward pass\n",
    "            layer[\"layer\"].forward(x)\n",
    "            layer[\"a\"] = layer[\"layer\"].a\n",
    "            layer[\"h\"] = layer[\"layer\"].h\n",
    "            x = layer[\"h\"]\n",
    "\n",
    "        return x\n",
    "    \n",
    "    def backpropagation(self, x_train:np.array, y_label: np.array):\n",
    "        reverse_layers = list(self.nn_dict.items())[::-1]\n",
    "        for count, (layer_name, layer) in enumerate(reverse_layers):   # reverse the  \n",
    "            \n",
    "            if layer_name == \"Output_layer\":\n",
    "                layer[\"layer\"].backpropagation(y_label = y_label, prev_layer_h = reverse_layers[count + 1][-1][\"layer\"].h)\n",
    "            elif layer_name == \"Layer_1\":\n",
    "                layer[\"layer\"].backpropagation(next_layer_w = reverse_layers[count - 1][-1][\"layer\"].weight, \n",
    "                                               next_layer_L_theta_by_a = reverse_layers[count - 1][-1][\"layer\"].L_theta_by_a, \n",
    "                                               prev_layer_h = x_train,)\n",
    "            else:\n",
    "                layer[\"layer\"].backpropagation(next_layer_w = reverse_layers[count - 1][-1][\"layer\"].weight, \n",
    "                                               next_layer_L_theta_by_a = reverse_layers[count - 1][-1][\"layer\"].L_theta_by_a, \n",
    "                                               prev_layer_h = reverse_layers[count + 1][-1][\"layer\"].h,)\n",
    "                \n",
    "    def update(self):\n",
    "        for count, (layer_name, layer) in enumerate(list(self.nn_dict.items())):   \n",
    "            layer[\"layer\"].weight -= layer[\"layer\"].L_theta_by_w * self.learning_rate\n",
    "            layer[\"layer\"].bias -= layer[\"layer\"].L_theta_by_b * self.learning_rate\n",
    "            ## do the update\n"
   ]
  },
  {
   "cell_type": "code",
   "execution_count": null,
   "metadata": {},
   "outputs": [],
   "source": [
    "my_net = NeuralNetwork()\n",
    "\n",
    "for i in range(4):\n",
    "    op = my_net.forward_pass(np.expand_dims(x_train[0], axis = -1))\n",
    "    # Calcualte the loss \n",
    "    print(f\"The loss at try {i}\", cross_entropy(y_pred = op, y_label = y_train[0]))\n",
    "\n",
    "\n",
    "    my_net.backpropagation(x_train = np.expand_dims(x_train[0], axis = -1),\n",
    "                        y_label = np.expand_dims(y_train[0], axis = -1))\n",
    "    my_net.update()"
   ]
  }
 ],
 "metadata": {
  "kernelspec": {
   "display_name": "stockmarket",
   "language": "python",
   "name": "python3"
  },
  "language_info": {
   "codemirror_mode": {
    "name": "ipython",
    "version": 3
   },
   "file_extension": ".py",
   "mimetype": "text/x-python",
   "name": "python",
   "nbconvert_exporter": "python",
   "pygments_lexer": "ipython3",
   "version": "3.11.9"
  }
 },
 "nbformat": 4,
 "nbformat_minor": 2
}
