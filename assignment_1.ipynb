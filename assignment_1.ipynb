{
 "cells": [
  {
   "cell_type": "code",
   "execution_count": 1,
   "metadata": {},
   "outputs": [],
   "source": [
    "import numpy as np\n",
    "from keras.datasets import fashion_mnist"
   ]
  },
  {
   "cell_type": "markdown",
   "metadata": {},
   "source": [
    "## Question 1 fashion-MNIST dataset"
   ]
  },
  {
   "cell_type": "code",
   "execution_count": 2,
   "metadata": {},
   "outputs": [
    {
     "name": "stdout",
     "output_type": "stream",
     "text": [
      "Dataset summary\n",
      "Train (60000, 784) (60000,)\n",
      "Test (10000, 784) (10000,)\n"
     ]
    }
   ],
   "source": [
    "(x_train, y_train), (x_test, y_test) = fashion_mnist.load_data()\n",
    "x_train = x_train.reshape(len(x_train),-1)\n",
    "x_test = x_test.reshape(len(x_test),-1)\n",
    "print(\"Dataset summary\")\n",
    "print(\"Train\",x_train.shape,y_train.shape)\n",
    "print(\"Test\",x_test.shape,y_test.shape)\n"
   ]
  },
  {
   "cell_type": "markdown",
   "metadata": {},
   "source": [
    "## Q2 and Q3"
   ]
  },
  {
   "cell_type": "code",
   "execution_count": 7,
   "metadata": {},
   "outputs": [],
   "source": [
    "def sigmoid(x):\n",
    "    return 1/(1+np.exp(-x))\n",
    "\n",
    "def softmax(x):\n",
    "    e_x = np.exp(x)\n",
    "    return e_x/e_x.sum()\n",
    "\n",
    "class HiddenLayer:\n",
    "    def __init__(self, num_of_nodes: int, num_of_nodes_prev_layer: int, activation: str = \"sigmoid\"):\n",
    "        self.num_of_nodes = num_of_nodes\n",
    "        self.num_of_nodes_prev_layer = num_of_nodes_prev_layer\n",
    "        self.activation = activation\n",
    "        self.weight = np.random.normal(0, 1, size=(self.num_of_nodes, self.num_of_nodes_prev_layer))\n",
    "        self.bias = np.random.normal(0, 1, size=(self.num_of_nodes))\n",
    "\n",
    "    def forward(self, input):\n",
    "        self.a = np.matmul(self.weight, input) + self.bias ## Need to check the input shape?\n",
    "        if self.activation == \"sigmoid\":\n",
    "            self.h = sigmoid(self.a)\n",
    "\n",
    "\n",
    "class OutputLayer:\n",
    "    def __init__(self, num_of_output_neuron: int, num_of_nodes_prev_layer: int, activation: str = \"softmax\"):\n",
    "        self.num_of_output_neuron = num_of_output_neuron\n",
    "        self.num_of_nodes_prev_layer = num_of_nodes_prev_layer\n",
    "        self.activation = activation\n",
    "        self.weight = np.random.normal(0, 1, size=(self.num_of_output_neuron, self.num_of_nodes_prev_layer))\n",
    "        self.bias = np.random.normal(0, 1, size=(self.num_of_output_neuron))\n",
    "\n",
    "    def forward(self, input):\n",
    "        self.a = np.matmul(self.weight, input) + self.bias ## Need to check the input shape?\n",
    "        if self.activation == \"softmax\":\n",
    "            self.h = softmax(self.a)"
   ]
  },
  {
   "cell_type": "code",
   "execution_count": null,
   "metadata": {},
   "outputs": [],
   "source": [
    "class NeuralNetwork:\n",
    "    def __init__(self, input_neuron: int= 784, num_hidden_layers: int = 3, neurons_per_hidden_layer: list = [100,100,100], num_of_output_neuron: int = 10):\n",
    "        self.input_neuron = input_neuron\n",
    "        self.num_hidden_layers = num_hidden_layers\n",
    "        assert self.num_hidden_layers == len(neurons_per_hidden_layer)\n",
    "        self.neurons_per_hidden_layer = neurons_per_hidden_layer\n",
    "        self.num_of_output_neuron = num_of_output_neuron\n",
    "        ## Build the NN\n",
    "        self.build_nn()\n",
    "\n",
    "    # wx+b\n",
    "    def build_nn(self):\n",
    "        self.nn_dict = {}\n",
    "        for layer_i, neurons_i in enumerate(self.neurons_per_hidden_layer):\n",
    "            if layer_i == 0: # first layer \n",
    "                self.nn_dict[f\"Layer_{layer_i+1}\"] = {\"layer\":HiddenLayer(num_of_nodes = neurons_i, num_of_nodes_prev_layer = self.input_neuron, activation = \"sigmoid\")}\n",
    "            else:\n",
    "                self.nn_dict[f\"Layer_{layer_i+1}\"] = {\"layer\":HiddenLayer(num_of_nodes = neurons_i, num_of_nodes_prev_layer = self.neurons_per_hidden_layer[layer_i - 1], activation = \"sigmoid\")}\n",
    "        ## Add the output layer\n",
    "        self.nn_dict[\"Output_layer\"] = {\"layer\":OutputLayer(self.num_of_output_neuron, self.neurons_per_hidden_layer[-1], activation = \"softmax\")}\n",
    "\n",
    "    def forward_pass(self, x):\n",
    "        \n",
    "        for layer in self.nn_dict.values():\n",
    "            ## forward pass\n",
    "            layer[\"layer\"].forward(x)\n",
    "            layer[\"a\"] = layer[\"layer\"].a\n",
    "            layer[\"h\"] = layer[\"layer\"].h\n",
    "\n",
    "        return self.nn_dict[\"Output_layer\"][\"h\"]\n",
    "\n",
    "\n"
   ]
  },
  {
   "cell_type": "code",
   "execution_count": 18,
   "metadata": {},
   "outputs": [
    {
     "name": "stdout",
     "output_type": "stream",
     "text": [
      "1\n",
      "2\n"
     ]
    }
   ],
   "source": [
    "v = {\"h\":1,\"v\":2}\n",
    "for i in v.values():\n",
    "    print(i)"
   ]
  }
 ],
 "metadata": {
  "kernelspec": {
   "display_name": "stockmarket",
   "language": "python",
   "name": "python3"
  },
  "language_info": {
   "codemirror_mode": {
    "name": "ipython",
    "version": 3
   },
   "file_extension": ".py",
   "mimetype": "text/x-python",
   "name": "python",
   "nbconvert_exporter": "python",
   "pygments_lexer": "ipython3",
   "version": "3.11.9"
  }
 },
 "nbformat": 4,
 "nbformat_minor": 2
}
